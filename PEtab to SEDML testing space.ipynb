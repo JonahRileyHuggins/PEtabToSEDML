{
 "cells": [
  {
   "cell_type": "markdown",
   "metadata": {},
   "source": [
    "# PEtab To SEDML: Mapping The Features Shared\n",
    "\n",
    "\n",
    "#### Overview:\n",
    "The goal of this work is to map the features that are shared between PEtab and\n",
    "SED-ML. \n",
    "\n",
    "The primary mechanism will be to use XML, the phraSED-ML (possibly built\n",
    "into Tellurium) and the PEtab python packages."
   ]
  },
  {
   "cell_type": "code",
   "execution_count": 1,
   "metadata": {},
   "outputs": [],
   "source": [
    "from source.loader import file_loader\n",
    "import source.builders as builders"
   ]
  },
  {
   "cell_type": "code",
   "execution_count": 2,
   "metadata": {},
   "outputs": [],
   "source": [
    "petab_files = file_loader('test_benchmark/test_benchmark.yml')"
   ]
  },
  {
   "cell_type": "code",
   "execution_count": 3,
   "metadata": {},
   "outputs": [
    {
     "name": "stdout",
     "output_type": "stream",
     "text": [
      "Added DataGenerator to test_benchmark\\sedml_file.xml\n",
      "Added DataDescription to test_benchmark\\sedml_file.xml\n",
      "Added Output to test_benchmark\\sedml_file.xml\n",
      "SED-ML file written to test_benchmark\\sedml_file.xml\n"
     ]
    }
   ],
   "source": [
    "builders.build_sedml_file(yaml_file='test_benchmark/test_benchmark.yml')"
   ]
  }
 ],
 "metadata": {
  "kernelspec": {
   "display_name": "PEtabToSEDML",
   "language": "python",
   "name": "python3"
  },
  "language_info": {
   "codemirror_mode": {
    "name": "ipython",
    "version": 3
   },
   "file_extension": ".py",
   "mimetype": "text/x-python",
   "name": "python",
   "nbconvert_exporter": "python",
   "pygments_lexer": "ipython3",
   "version": "3.11.10"
  }
 },
 "nbformat": 4,
 "nbformat_minor": 2
}
